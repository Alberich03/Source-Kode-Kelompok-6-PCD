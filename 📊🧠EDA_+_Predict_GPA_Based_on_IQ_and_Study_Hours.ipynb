{
  "metadata": {
    "kernelspec": {
      "language": "python",
      "display_name": "Python 3",
      "name": "python3"
    },
    "language_info": {
      "name": "python",
      "version": "3.10.12",
      "mimetype": "text/x-python",
      "codemirror_mode": {
        "name": "ipython",
        "version": 3
      },
      "pygments_lexer": "ipython3",
      "nbconvert_exporter": "python",
      "file_extension": ".py"
    },
    "colab": {
      "name": "📊🧠EDA + Predict GPA Based on IQ and Study Hours",
      "provenance": []
    }
  },
  "nbformat_minor": 0,
  "nbformat": 4,
  "cells": [
    {
      "source": [
        "# IMPORTANT: RUN THIS CELL IN ORDER TO IMPORT YOUR KAGGLE DATA SOURCES,\n",
        "# THEN FEEL FREE TO DELETE THIS CELL.\n",
        "# NOTE: THIS NOTEBOOK ENVIRONMENT DIFFERS FROM KAGGLE'S PYTHON\n",
        "# ENVIRONMENT SO THERE MAY BE MISSING LIBRARIES USED BY YOUR\n",
        "# NOTEBOOK.\n",
        "import kagglehub\n",
        "joebeachcapital_gpa_and_iq_path = kagglehub.dataset_download('joebeachcapital/gpa-and-iq')\n",
        "joebeachcapital_gpa_study_hours_path = kagglehub.dataset_download('joebeachcapital/gpa-study-hours')\n",
        "\n",
        "print('Data source import complete.')\n"
      ],
      "metadata": {
        "id": "P02KDDHx_QqL"
      },
      "cell_type": "code",
      "outputs": [],
      "execution_count": null
    },
    {
      "cell_type": "markdown",
      "source": [
        "# **WELOME -- UPVOTE IF YOU ENJOY!**"
      ],
      "metadata": {
        "id": "XxkKg49i_QqO"
      }
    },
    {
      "cell_type": "markdown",
      "source": [
        "# **ABSTRACT**"
      ],
      "metadata": {
        "id": "b4eJ_hYw_QqQ"
      }
    },
    {
      "cell_type": "markdown",
      "source": [
        "In this study, we performed an extensive Exploratory Data Analysis (EDA) to understand the factors affecting student GPAs, specifically focusing on IQ and study hours. We started by merging two distinct datasets—one containing information about student GPAs and IQ, and the other detailing GPAs and study hours. Our EDA included data cleaning to handle missing values, duplicate rows, and constant features. We also explored the distributions of the variables and their inter-correlations through visualizations. A linear regression model was then trained to predict GPA based on IQ and study hours, which was evaluated using Root Mean Square Error (RMSE) and cross-validation. However, we encountered an issue with an unusually low RMSE, indicating a potential problem that warrants further investigation. Despite this, the model was implemented in a user-friendly application that allows individuals to input their IQ and study hours to predict their GPA. This serves as a foundation for future work to improve the predictive model and understand student performance better."
      ],
      "metadata": {
        "id": "8mAjuE53_QqQ"
      }
    },
    {
      "cell_type": "markdown",
      "source": [
        "# **WHY WAS THIS MADE?**"
      ],
      "metadata": {
        "id": "xOR2a-Kw_QqR"
      }
    },
    {
      "cell_type": "markdown",
      "source": [
        "This study was developed in light of rising academic competition and its impact on mental well-being. As GPA becomes a focal point for future opportunities, understanding its predictors like IQ and study hours is crucial. This predictive model aims to offer insights that can guide students and educators, thereby alleviating academic stress and fostering a balanced approach to success."
      ],
      "metadata": {
        "id": "lGPQNmUB_QqR"
      }
    },
    {
      "cell_type": "markdown",
      "source": [
        "# **IMPORTING LIBRARIES**"
      ],
      "metadata": {
        "id": "a8JR0fYc_QqS"
      }
    },
    {
      "cell_type": "code",
      "source": [
        "import numpy as np\n",
        "import pandas as pd\n",
        "import matplotlib.pyplot as plt\n",
        "import seaborn as sns\n",
        "from sklearn.model_selection import train_test_split\n",
        "from sklearn.linear_model import LinearRegression\n",
        "from sklearn.metrics import mean_squared_error\n"
      ],
      "metadata": {
        "execution": {
          "iopub.status.busy": "2023-09-02T03:21:17.719184Z",
          "iopub.execute_input": "2023-09-02T03:21:17.719746Z",
          "iopub.status.idle": "2023-09-02T03:21:17.729182Z",
          "shell.execute_reply.started": "2023-09-02T03:21:17.719716Z",
          "shell.execute_reply": "2023-09-02T03:21:17.728354Z"
        },
        "trusted": true,
        "id": "HhXERkmH_QqT"
      },
      "execution_count": null,
      "outputs": []
    },
    {
      "cell_type": "markdown",
      "source": [
        "# **LOAD DATA**"
      ],
      "metadata": {
        "id": "-rZUlr_e_QqU"
      }
    },
    {
      "cell_type": "code",
      "source": [
        "df1 = pd.read_csv('/kaggle/input/gpa-and-iq/gpa_iq.csv')  # dataset containing GPA and IQ\n",
        "df2 = pd.read_csv('/kaggle/input/gpa-study-hours/gpa_study_hours.csv')  # dataset containing GPA and study hours"
      ],
      "metadata": {
        "execution": {
          "iopub.status.busy": "2023-09-02T03:21:17.730431Z",
          "iopub.execute_input": "2023-09-02T03:21:17.731039Z",
          "iopub.status.idle": "2023-09-02T03:21:17.747448Z",
          "shell.execute_reply.started": "2023-09-02T03:21:17.730998Z",
          "shell.execute_reply": "2023-09-02T03:21:17.746234Z"
        },
        "trusted": true,
        "id": "jqQFAvRq_QqU"
      },
      "execution_count": null,
      "outputs": []
    },
    {
      "cell_type": "markdown",
      "source": [
        "# **DATA PREPROCESSING**"
      ],
      "metadata": {
        "id": "mMaJPNtJ_QqV"
      }
    },
    {
      "cell_type": "markdown",
      "source": [
        "# MERGING THE DATA"
      ],
      "metadata": {
        "id": "2GkVmTZl_QqV"
      }
    },
    {
      "cell_type": "markdown",
      "source": [
        "# Here we need to identify a varibale based on which to merge the data, in this case, GPA."
      ],
      "metadata": {
        "id": "MsX4sUDm_QqV"
      }
    },
    {
      "cell_type": "code",
      "source": [
        "print(\"Columns in df1: \", df1.columns)\n",
        "print(\"Columns in df2: \", df2.columns)"
      ],
      "metadata": {
        "execution": {
          "iopub.status.busy": "2023-09-02T03:21:17.750015Z",
          "iopub.execute_input": "2023-09-02T03:21:17.751226Z",
          "iopub.status.idle": "2023-09-02T03:21:17.759324Z",
          "shell.execute_reply.started": "2023-09-02T03:21:17.751191Z",
          "shell.execute_reply": "2023-09-02T03:21:17.75749Z"
        },
        "trusted": true,
        "id": "QNDmkz3J_QqW"
      },
      "execution_count": null,
      "outputs": []
    },
    {
      "cell_type": "code",
      "source": [
        "merged_df = pd.merge(df1, df2, on='gpa')"
      ],
      "metadata": {
        "execution": {
          "iopub.status.busy": "2023-09-02T03:21:17.760837Z",
          "iopub.execute_input": "2023-09-02T03:21:17.761415Z",
          "iopub.status.idle": "2023-09-02T03:21:17.771444Z",
          "shell.execute_reply.started": "2023-09-02T03:21:17.761384Z",
          "shell.execute_reply": "2023-09-02T03:21:17.770213Z"
        },
        "trusted": true,
        "id": "aQZhDr4-_QqW"
      },
      "execution_count": null,
      "outputs": []
    },
    {
      "cell_type": "markdown",
      "source": [
        "# **Preprocess Merged Data**"
      ],
      "metadata": {
        "id": "yjXyrRDf_QqW"
      }
    },
    {
      "cell_type": "markdown",
      "source": [
        "# This code checks a merged DataFrame for null values, duplicate rows, and constant features, printing warnings and cleaning the data accordingly."
      ],
      "metadata": {
        "id": "DbKc_DlI_QqX"
      }
    },
    {
      "cell_type": "code",
      "source": [
        "# Check for Null Values\n",
        "if merged_df.isnull().sum().any():\n",
        "    print(\"Warning: Null values found\")\n",
        "    print(merged_df.isnull().sum())\n",
        "\n",
        "# Remove Duplicate Rows\n",
        "duplicate_count = merged_df.duplicated().sum()\n",
        "if duplicate_count > 0:\n",
        "    print(f\"Warning: {duplicate_count} duplicate rows found\")\n",
        "    merged_df.drop_duplicates(inplace=True)\n",
        "\n",
        "# Remove Constant Features\n",
        "constant_columns = [col for col in merged_df.columns if merged_df[col].nunique() == 1]\n",
        "if constant_columns:\n",
        "    print(f\"Warning: Constant columns found: {constant_columns}\")\n",
        "    merged_df.drop(columns=constant_columns, inplace=True)\n"
      ],
      "metadata": {
        "execution": {
          "iopub.status.busy": "2023-09-02T03:21:17.772787Z",
          "iopub.execute_input": "2023-09-02T03:21:17.773549Z",
          "iopub.status.idle": "2023-09-02T03:21:17.790266Z",
          "shell.execute_reply.started": "2023-09-02T03:21:17.773503Z",
          "shell.execute_reply": "2023-09-02T03:21:17.788993Z"
        },
        "trusted": true,
        "id": "oxClKnBL_QqX"
      },
      "execution_count": null,
      "outputs": []
    },
    {
      "cell_type": "markdown",
      "source": [
        "# **📈EDA OF THE DATA📈**"
      ],
      "metadata": {
        "id": "26TIbTgE_QqX"
      }
    },
    {
      "cell_type": "markdown",
      "source": [
        "# This code generates and displays a correlation matrix and heatmap for GPA, IQ, and study hours. It also creates scatter plots to visualize individual correlations between these variables."
      ],
      "metadata": {
        "id": "y5m25LTQ_QqX"
      }
    },
    {
      "cell_type": "code",
      "source": [
        "# Generate the correlation matrix\n",
        "correlation_matrix = merged_df[['gpa', 'iq', 'study_hours']].corr()\n",
        "\n",
        "# Print out the correlation matrix\n",
        "print(\"Correlation Matrix:\")\n",
        "print(correlation_matrix)\n",
        "\n",
        "# Generate a heatmap for the correlation matrix\n",
        "sns.heatmap(correlation_matrix, annot=True, cmap='coolwarm')\n",
        "plt.title('Correlation Heatmap')\n",
        "plt.show()\n",
        "\n",
        "# Generate scatter plots for individual correlations\n",
        "\n",
        "# Scatter plot for GPA and IQ\n",
        "sns.scatterplot(data=merged_df, x='iq', y='gpa')\n",
        "plt.title('Scatter plot of GPA and IQ')\n",
        "plt.xlabel('IQ')\n",
        "plt.ylabel('GPA')\n",
        "plt.show()\n",
        "\n",
        "# Scatter plot for GPA and Study Hours\n",
        "sns.scatterplot(data=merged_df, x='study_hours', y='gpa')\n",
        "plt.title('Scatter plot of GPA and Study Hours')\n",
        "plt.xlabel('Study Hours')\n",
        "plt.ylabel('GPA')\n",
        "plt.show()\n",
        "\n",
        "# Scatter plot for IQ and Study Hours\n",
        "sns.scatterplot(data=merged_df, x='study_hours', y='iq')\n",
        "plt.title('Scatter plot of IQ and Study Hours')\n",
        "plt.xlabel('Study Hours')\n",
        "plt.ylabel('IQ')\n",
        "plt.show()\n",
        "\n",
        "# Scatter plot to show all correlations\n",
        "sns.pairplot(merged_df[['gpa', 'iq', 'study_hours']])\n",
        "plt.title('Pairplot of GPA, IQ, and Study Hours')\n",
        "plt.show()\n"
      ],
      "metadata": {
        "execution": {
          "iopub.status.busy": "2023-09-02T03:21:17.791815Z",
          "iopub.execute_input": "2023-09-02T03:21:17.792262Z",
          "iopub.status.idle": "2023-09-02T03:21:21.720334Z",
          "shell.execute_reply.started": "2023-09-02T03:21:17.792222Z",
          "shell.execute_reply": "2023-09-02T03:21:21.719086Z"
        },
        "trusted": true,
        "id": "LMVVcnBK_QqX"
      },
      "execution_count": null,
      "outputs": []
    },
    {
      "cell_type": "markdown",
      "source": [
        "# **DATA SPLITTING + MODEL TRAINING**"
      ],
      "metadata": {
        "id": "ZhYFqGrZ_QqY"
      }
    },
    {
      "cell_type": "markdown",
      "source": [
        "# This code splits the data into training and test sets, trains a linear regression model, and evaluates it using cross-validation and Root Mean Square Error (RMSE) for both training and test data."
      ],
      "metadata": {
        "id": "8OlyiOYH_QqY"
      }
    },
    {
      "cell_type": "code",
      "source": [
        "from sklearn.model_selection import cross_val_score\n",
        "\n",
        "# Split data\n",
        "X = merged_df[['iq', 'study_hours']]\n",
        "y = merged_df['gpa']\n",
        "\n",
        "# Try a different random seed\n",
        "X_train, X_test, y_train, y_test = train_test_split(X, y, test_size=0.2, random_state=100)\n",
        "\n",
        "# Train model\n",
        "model = LinearRegression()\n",
        "model.fit(X_train, y_train)\n",
        "\n",
        "# Cross-validation\n",
        "cv_scores = cross_val_score(model, X, y, cv=5, scoring='neg_mean_squared_error')\n",
        "cv_rmse = np.sqrt(-cv_scores)\n",
        "print(\"Cross-validation RMSE scores:\", cv_rmse)\n",
        "print(\"Mean CV RMSE:\", np.mean(cv_rmse))\n",
        "\n",
        "# Predict and evaluate\n",
        "y_train_pred = model.predict(X_train)\n",
        "y_test_pred = model.predict(X_test)\n",
        "\n",
        "print(\"Train RMSE:\", np.sqrt(mean_squared_error(y_train, y_train_pred)))\n",
        "print(\"Test RMSE:\", np.sqrt(mean_squared_error(y_test, y_test_pred)))\n"
      ],
      "metadata": {
        "execution": {
          "iopub.status.busy": "2023-09-02T03:23:42.427701Z",
          "iopub.execute_input": "2023-09-02T03:23:42.428095Z",
          "iopub.status.idle": "2023-09-02T03:23:42.472209Z",
          "shell.execute_reply.started": "2023-09-02T03:23:42.428064Z",
          "shell.execute_reply": "2023-09-02T03:23:42.470949Z"
        },
        "trusted": true,
        "id": "hfKDioKq_QqY"
      },
      "execution_count": null,
      "outputs": []
    },
    {
      "cell_type": "markdown",
      "source": [
        "# **PREDICT YOUR OWN GPA BASED ON IQ AND STUDY HOURS**"
      ],
      "metadata": {
        "id": "jP9tc7hP_QqY"
      }
    },
    {
      "cell_type": "markdown",
      "source": [
        "# This code defines a function to predict GPA based on user-inputted IQ and study hours using a trained linear regression model. It handles invalid inputs gracefully."
      ],
      "metadata": {
        "id": "LXdFDcOv_QqZ"
      }
    },
    {
      "cell_type": "code",
      "source": [
        "import numpy as np\n",
        "from sklearn.linear_model import LinearRegression\n",
        "\n",
        "# Assume model is your trained model\n",
        "model = LinearRegression()\n",
        "# Replace X_train and y_train with your actual training data\n",
        "model.fit(X_train, y_train)\n",
        "\n",
        "def predict_gpa(iq, study_hours):\n",
        "    # Prepare the feature vector for prediction\n",
        "    features = np.array([[iq, study_hours]])\n",
        "\n",
        "    # Use the trained model to make the prediction\n",
        "    predicted_gpa = model.predict(features)\n",
        "\n",
        "    return predicted_gpa[0]\n",
        "\n",
        "# Define user IQ and study hours directly in the code\n",
        "user_iq = 110  # Replace with the desired IQ\n",
        "user_study_hours = 20  # Replace with the desired number of study hours\n",
        "\n",
        "# Make prediction\n",
        "try:\n",
        "    predicted_gpa = predict_gpa(user_iq, user_study_hours)\n",
        "\n",
        "    print(f\"Based on the provided IQ of {user_iq} and weekly study hours of {user_study_hours}, the predicted GPA is {predicted_gpa:.2f}.\")\n",
        "\n",
        "except ValueError:\n",
        "    print(\"Invalid input. Please enter numerical values for IQ and study hours.\")\n"
      ],
      "metadata": {
        "execution": {
          "iopub.status.busy": "2023-09-02T03:41:42.894148Z",
          "iopub.execute_input": "2023-09-02T03:41:42.894524Z",
          "iopub.status.idle": "2023-09-02T03:41:42.907274Z",
          "shell.execute_reply.started": "2023-09-02T03:41:42.894496Z",
          "shell.execute_reply": "2023-09-02T03:41:42.90633Z"
        },
        "trusted": true,
        "id": "v7aj7NdM_QqZ"
      },
      "execution_count": null,
      "outputs": []
    }
  ]
}